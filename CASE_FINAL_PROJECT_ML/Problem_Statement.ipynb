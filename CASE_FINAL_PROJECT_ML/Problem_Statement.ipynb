{
  "nbformat": 4,
  "nbformat_minor": 0,
  "metadata": {
    "colab": {
      "name": "Problem Statement.ipynb",
      "provenance": [],
      "authorship_tag": "ABX9TyMoZyA5u3xu7jE0oTlsYcCJ",
      "include_colab_link": true
    },
    "kernelspec": {
      "name": "python3",
      "display_name": "Python 3"
    },
    "language_info": {
      "name": "python"
    }
  },
  "cells": [
    {
      "cell_type": "markdown",
      "metadata": {
        "id": "view-in-github",
        "colab_type": "text"
      },
      "source": [
        "<a href=\"https://colab.research.google.com/github/acg12/Scholarship-Bootcamp/blob/main/CASE_FINAL_PROJECT_ML/Problem_Statement.ipynb\" target=\"_parent\"><img src=\"https://colab.research.google.com/assets/colab-badge.svg\" alt=\"Open In Colab\"/></a>"
      ]
    },
    {
      "cell_type": "markdown",
      "metadata": {
        "id": "AVE47X4fMsmm"
      },
      "source": [
        "# Problem Statement"
      ]
    },
    {
      "cell_type": "markdown",
      "metadata": {
        "id": "fl7BAk53sOuo"
      },
      "source": [
        "**Context**\n",
        "\n",
        "According to the WHO definition, a stroke (cerebrovascular disease) event is defined\n",
        "as rapidly developing signs of focal (global) disturbance of cerebral function of presumed\n",
        "vascular origin leading to death or lasting more than 24 hours (unless interrupted by surgery).\n",
        "This definition includes all patients presenting with clinical signs and symptoms of\n",
        "subarachnoid hemorrhage, intracerebral hemorrhage, thrombosis and embolism but will\n",
        "exclude patients presenting with transient ischemic attacks (TIA) with recovery of the\n",
        "neurological deficit within 24 hours, subdural and extradural haematomas, brain tumours,\n",
        "head injuries. According to the American Heart Association (AHA), global prevalence of stroke in 2019 was 101.5 million people."
      ]
    },
    {
      "cell_type": "markdown",
      "metadata": {
        "id": "6cPDQGWAsE0W"
      },
      "source": [
        "**Business Objective**\n",
        "\n",
        "The objective of this project is to predict whether someone has had a stroke event. This will be especially beneficial in the healthcare industry, as prevention is always better than treatment."
      ]
    },
    {
      "cell_type": "markdown",
      "metadata": {
        "id": "z5RqDi1gsHVp"
      },
      "source": [
        "**Output**\n",
        "\n",
        "The output of this project will be the predicted result of whether or not someone has had a stroke event before."
      ]
    },
    {
      "cell_type": "markdown",
      "metadata": {
        "id": "jwQKlhWVsJLi"
      },
      "source": [
        "**Machine Learning Task**\n",
        "\n",
        "This project will use supervised learning algorithms, as the target output has already been labeled. By using data on people in this dataset, we can try to predict whether or not he/she has had a stroke before."
      ]
    },
    {
      "cell_type": "markdown",
      "metadata": {
        "id": "yyfIHjIFsLLN"
      },
      "source": [
        "**Performance Measure**\n",
        "\n",
        "We will be using precision, recall, roc-auc score, and f1 score as metrics to measure the performance of our model."
      ]
    }
  ]
}