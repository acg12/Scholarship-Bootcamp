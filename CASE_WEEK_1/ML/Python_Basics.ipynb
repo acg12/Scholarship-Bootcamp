{
  "nbformat": 4,
  "nbformat_minor": 0,
  "metadata": {
    "colab": {
      "name": "Python Basics.ipynb",
      "provenance": [],
      "authorship_tag": "ABX9TyN4d4bsgzr3iAuU33SKlrEe",
      "include_colab_link": true
    },
    "kernelspec": {
      "name": "python3",
      "display_name": "Python 3"
    },
    "language_info": {
      "name": "python"
    }
  },
  "cells": [
    {
      "cell_type": "markdown",
      "metadata": {
        "id": "view-in-github",
        "colab_type": "text"
      },
      "source": [
        "<a href=\"https://colab.research.google.com/github/acg12/Scholarship-Bootcamp/blob/main/CASE_WEEK_1/ML/Python_Basics.ipynb\" target=\"_parent\"><img src=\"https://colab.research.google.com/assets/colab-badge.svg\" alt=\"Open In Colab\"/></a>"
      ]
    },
    {
      "cell_type": "markdown",
      "metadata": {
        "id": "BjPGxqgFGloi"
      },
      "source": [
        "# Challenge 1"
      ]
    },
    {
      "cell_type": "code",
      "metadata": {
        "colab": {
          "base_uri": "https://localhost:8080/"
        },
        "id": "dgJfurOMGiTA",
        "outputId": "4fbfb21f-e57f-482a-cccb-4c8576a48bcd"
      },
      "source": [
        "one = int(input())\n",
        "two = int(input())\n",
        "\n",
        "print(one + two)"
      ],
      "execution_count": 1,
      "outputs": [
        {
          "output_type": "stream",
          "text": [
            "2\n",
            "3\n",
            "5\n"
          ],
          "name": "stdout"
        }
      ]
    },
    {
      "cell_type": "markdown",
      "metadata": {
        "id": "yHtRP8VBHqqG"
      },
      "source": [
        "# Challenge 2"
      ]
    },
    {
      "cell_type": "code",
      "metadata": {
        "colab": {
          "base_uri": "https://localhost:8080/"
        },
        "id": "aVvqTOkRGsiL",
        "outputId": "79746313-b1fb-470b-ef07-2466148d8d90"
      },
      "source": [
        "def factorial(x):\n",
        "    res = 1\n",
        "    while x > 1:\n",
        "        res *= x\n",
        "        x -= 1\n",
        "    return res\n",
        "\n",
        "inp = int(input())\n",
        "print(factorial(inp))"
      ],
      "execution_count": 2,
      "outputs": [
        {
          "output_type": "stream",
          "text": [
            "4\n",
            "24\n"
          ],
          "name": "stdout"
        }
      ]
    },
    {
      "cell_type": "markdown",
      "metadata": {
        "id": "KqUv35Q5HsZd"
      },
      "source": [
        "# Challenge 3"
      ]
    },
    {
      "cell_type": "code",
      "metadata": {
        "colab": {
          "base_uri": "https://localhost:8080/"
        },
        "id": "uXqwbm3aG2Qs",
        "outputId": "29350f27-a938-4d1b-ab9f-ef8641e77875"
      },
      "source": [
        "def determinePrime(x):\n",
        "    for i in range(2, (x // 2) + 1):\n",
        "        if x % i == 0:\n",
        "            return 'NO'\n",
        "    return 'YES'\n",
        "\n",
        "T = int(input())\n",
        "for i in range(T):\n",
        "    inp = int(input())\n",
        "    print(determinePrime(inp))"
      ],
      "execution_count": 3,
      "outputs": [
        {
          "output_type": "stream",
          "text": [
            "6\n",
            "16\n",
            "NO\n",
            "127\n",
            "YES\n",
            "256\n",
            "NO\n",
            "513\n",
            "NO\n",
            "2048\n",
            "NO\n",
            "5097\n",
            "NO\n"
          ],
          "name": "stdout"
        }
      ]
    },
    {
      "cell_type": "markdown",
      "metadata": {
        "id": "JCrITII8Ht5y"
      },
      "source": [
        "# Challenge 4"
      ]
    },
    {
      "cell_type": "code",
      "metadata": {
        "colab": {
          "base_uri": "https://localhost:8080/"
        },
        "id": "07O09VmpHAIo",
        "outputId": "a273be55-1fd0-4a27-c341-7237e5bb06b6"
      },
      "source": [
        "def printWow(x):\n",
        "    string = 'W'\n",
        "    for i in range(x):\n",
        "        string += 'o'\n",
        "    string += 'w'\n",
        "    print(string)\n",
        "\n",
        "inp = int(input())\n",
        "printWow(inp)"
      ],
      "execution_count": 4,
      "outputs": [
        {
          "output_type": "stream",
          "text": [
            "7\n",
            "Wooooooow\n"
          ],
          "name": "stdout"
        }
      ]
    },
    {
      "cell_type": "markdown",
      "metadata": {
        "id": "GmYVpSgpHvIn"
      },
      "source": [
        "# Challenge 5"
      ]
    },
    {
      "cell_type": "code",
      "metadata": {
        "colab": {
          "base_uri": "https://localhost:8080/"
        },
        "id": "Cd51oDAMHCp8",
        "outputId": "a5031f15-64b5-4062-a1f4-63886572286d"
      },
      "source": [
        "while True:\n",
        "    x = int(input())\n",
        "    \n",
        "    print(x)\n",
        "    \n",
        "    if x == 42:\n",
        "        break"
      ],
      "execution_count": 5,
      "outputs": [
        {
          "output_type": "stream",
          "text": [
            "3\n",
            "3\n",
            "15\n",
            "15\n",
            "42\n",
            "42\n"
          ],
          "name": "stdout"
        }
      ]
    },
    {
      "cell_type": "markdown",
      "metadata": {
        "id": "jwFF3J_LHwdl"
      },
      "source": [
        "# Challenge 6"
      ]
    },
    {
      "cell_type": "code",
      "metadata": {
        "colab": {
          "base_uri": "https://localhost:8080/"
        },
        "id": "0-7Ob6YiHG4Q",
        "outputId": "66a0dbb4-ff6a-47dc-bf28-12c7172d9c78"
      },
      "source": [
        "total = 0\n",
        "\n",
        "for i in range(6):\n",
        "    x = int(input())\n",
        "    total += x\n",
        "\n",
        "print(total // x)"
      ],
      "execution_count": 6,
      "outputs": [
        {
          "output_type": "stream",
          "text": [
            "3\n",
            "7\n",
            "5\n",
            "2\n",
            "1\n",
            "6\n",
            "4\n"
          ],
          "name": "stdout"
        }
      ]
    },
    {
      "cell_type": "markdown",
      "metadata": {
        "id": "KZ2kQaQ_Hx2D"
      },
      "source": [
        "# Challenge 7"
      ]
    },
    {
      "cell_type": "code",
      "metadata": {
        "colab": {
          "base_uri": "https://localhost:8080/"
        },
        "id": "RP3JpatbHSYh",
        "outputId": "4cb9e780-467a-43a0-f276-7878bf3ff962"
      },
      "source": [
        "def countSumDigits(x):\n",
        "    res = 0\n",
        "    while x != 0:\n",
        "        res += x % 10\n",
        "        x //= 10\n",
        "    return res\n",
        "\n",
        "n = int(input())\n",
        "\n",
        "for i in range(n):\n",
        "    x = int(input())\n",
        "    print(countSumDigits(x))"
      ],
      "execution_count": 7,
      "outputs": [
        {
          "output_type": "stream",
          "text": [
            "3\n",
            "123123\n",
            "12\n",
            "3434\n",
            "14\n",
            "1234567890\n",
            "45\n"
          ],
          "name": "stdout"
        }
      ]
    }
  ]
}