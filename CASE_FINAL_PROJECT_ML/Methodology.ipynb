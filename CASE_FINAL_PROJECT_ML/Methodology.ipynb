{
  "nbformat": 4,
  "nbformat_minor": 0,
  "metadata": {
    "colab": {
      "name": "Methodology.ipynb",
      "provenance": [],
      "collapsed_sections": [],
      "authorship_tag": "ABX9TyOscT5GzOadvEGJCOHOsx9V",
      "include_colab_link": true
    },
    "kernelspec": {
      "name": "python3",
      "display_name": "Python 3"
    },
    "language_info": {
      "name": "python"
    }
  },
  "cells": [
    {
      "cell_type": "markdown",
      "metadata": {
        "id": "view-in-github",
        "colab_type": "text"
      },
      "source": [
        "<a href=\"https://colab.research.google.com/github/acg12/Scholarship-Bootcamp/blob/main/CASE_FINAL_PROJECT_ML/Methodology.ipynb\" target=\"_parent\"><img src=\"https://colab.research.google.com/assets/colab-badge.svg\" alt=\"Open In Colab\"/></a>"
      ]
    },
    {
      "cell_type": "code",
      "metadata": {
        "colab": {
          "base_uri": "https://localhost:8080/"
        },
        "id": "YcsmUJ_Juwkq",
        "outputId": "a1b393a9-999f-4659-b8d9-23ffec633043"
      },
      "source": [
        "!pip install catboost"
      ],
      "execution_count": 10,
      "outputs": [
        {
          "output_type": "stream",
          "text": [
            "Collecting catboost\n",
            "  Downloading catboost-0.26.1-cp37-none-manylinux1_x86_64.whl (67.4 MB)\n",
            "\u001b[K     |████████████████████████████████| 67.4 MB 30 kB/s \n",
            "\u001b[?25hRequirement already satisfied: plotly in /usr/local/lib/python3.7/dist-packages (from catboost) (4.4.1)\n",
            "Requirement already satisfied: scipy in /usr/local/lib/python3.7/dist-packages (from catboost) (1.4.1)\n",
            "Requirement already satisfied: six in /usr/local/lib/python3.7/dist-packages (from catboost) (1.15.0)\n",
            "Requirement already satisfied: numpy>=1.16.0 in /usr/local/lib/python3.7/dist-packages (from catboost) (1.19.5)\n",
            "Requirement already satisfied: graphviz in /usr/local/lib/python3.7/dist-packages (from catboost) (0.10.1)\n",
            "Requirement already satisfied: pandas>=0.24.0 in /usr/local/lib/python3.7/dist-packages (from catboost) (1.1.5)\n",
            "Requirement already satisfied: matplotlib in /usr/local/lib/python3.7/dist-packages (from catboost) (3.2.2)\n",
            "Requirement already satisfied: pytz>=2017.2 in /usr/local/lib/python3.7/dist-packages (from pandas>=0.24.0->catboost) (2018.9)\n",
            "Requirement already satisfied: python-dateutil>=2.7.3 in /usr/local/lib/python3.7/dist-packages (from pandas>=0.24.0->catboost) (2.8.2)\n",
            "Requirement already satisfied: pyparsing!=2.0.4,!=2.1.2,!=2.1.6,>=2.0.1 in /usr/local/lib/python3.7/dist-packages (from matplotlib->catboost) (2.4.7)\n",
            "Requirement already satisfied: cycler>=0.10 in /usr/local/lib/python3.7/dist-packages (from matplotlib->catboost) (0.10.0)\n",
            "Requirement already satisfied: kiwisolver>=1.0.1 in /usr/local/lib/python3.7/dist-packages (from matplotlib->catboost) (1.3.1)\n",
            "Requirement already satisfied: retrying>=1.3.3 in /usr/local/lib/python3.7/dist-packages (from plotly->catboost) (1.3.3)\n",
            "Installing collected packages: catboost\n",
            "Successfully installed catboost-0.26.1\n"
          ],
          "name": "stdout"
        }
      ]
    },
    {
      "cell_type": "markdown",
      "metadata": {
        "id": "i9WlEBnEKPpQ"
      },
      "source": [
        "# Methodology"
      ]
    },
    {
      "cell_type": "markdown",
      "metadata": {
        "id": "W_1-X2SnYCY7"
      },
      "source": [
        "## Load and Split Data"
      ]
    },
    {
      "cell_type": "code",
      "metadata": {
        "colab": {
          "base_uri": "https://localhost:8080/"
        },
        "id": "jmj4ZQYIYX9J",
        "outputId": "07c9519b-ead1-4eb4-a2fe-ce953766fb76"
      },
      "source": [
        "import pandas as pd\n",
        "\n",
        "train = pd.read_csv('train.csv')\n",
        "test = pd.read_csv('test.csv')\n",
        "\n",
        "print(train.shape)\n",
        "print(test.shape)"
      ],
      "execution_count": 1,
      "outputs": [
        {
          "output_type": "stream",
          "text": [
            "(4088, 11)\n",
            "(1021, 11)\n"
          ],
          "name": "stdout"
        }
      ]
    },
    {
      "cell_type": "code",
      "metadata": {
        "colab": {
          "base_uri": "https://localhost:8080/"
        },
        "id": "Duny7gdFYCGm",
        "outputId": "e495a3db-fba1-4ded-e077-af3b9bfaba67"
      },
      "source": [
        "from sklearn.model_selection import train_test_split\n",
        "\n",
        "X = train.drop('stroke', axis=1)\n",
        "y = train['stroke']\n",
        "\n",
        "X_train, X_test, y_train, y_test = train_test_split(X, y, test_size=0.2, stratify=y, random_state=42)\n",
        "\n",
        "print(X_train.shape)\n",
        "print(X_test.shape)"
      ],
      "execution_count": 2,
      "outputs": [
        {
          "output_type": "stream",
          "text": [
            "(3270, 10)\n",
            "(818, 10)\n"
          ],
          "name": "stdout"
        }
      ]
    },
    {
      "cell_type": "markdown",
      "metadata": {
        "id": "AZGF8s5rKEF9"
      },
      "source": [
        "## Construct Pipelines"
      ]
    },
    {
      "cell_type": "code",
      "metadata": {
        "id": "a1dFaD60TUG9"
      },
      "source": [
        "from sklearn.compose import ColumnTransformer\n",
        "from imblearn.pipeline import Pipeline\n",
        "from sklearn.preprocessing import OneHotEncoder\n",
        "from sklearn.preprocessing import OrdinalEncoder\n",
        "from sklearn.preprocessing import StandardScaler\n",
        "# from imblearn.over_sampling import SMOTE, ADASYN\n",
        "# from imblearn.under_sampling import RandomUnderSampler\n",
        "\n",
        "from sklearn.metrics import accuracy_score, precision_score, recall_score, f1_score, roc_auc_score, classification_report, roc_curve"
      ],
      "execution_count": 4,
      "outputs": []
    },
    {
      "cell_type": "code",
      "metadata": {
        "id": "qF4kRHwVcHMS"
      },
      "source": [
        "categorical_columns = ['ever_married', 'work_type', 'smoking_status']\n",
        "numerical_after_processed = X_train.columns"
      ],
      "execution_count": 5,
      "outputs": []
    },
    {
      "cell_type": "code",
      "metadata": {
        "id": "u0OobnS7aH8T"
      },
      "source": [
        "categorical_transformer = OneHotEncoder(handle_unknown='ignore', sparse='False')"
      ],
      "execution_count": 6,
      "outputs": []
    },
    {
      "cell_type": "markdown",
      "metadata": {
        "id": "pUzW97kaKGD0"
      },
      "source": [
        "## Baseline Model"
      ]
    },
    {
      "cell_type": "markdown",
      "metadata": {
        "id": "QDUMyIBwcmwJ"
      },
      "source": [
        "For our baseline model, I'm going to use LogisticRegression()."
      ]
    },
    {
      "cell_type": "code",
      "metadata": {
        "id": "J36z18tLdeLw"
      },
      "source": [
        "def score_pipeline_model(pipeline, X_test, y_test):\n",
        "  results = []\n",
        "\n",
        "  predictions = pipeline.predict(X_test)\n",
        "\n",
        "  predicted_probas_class1 = pipeline.predict_proba(X_test)[:, 1]\n",
        "  roc_auc = roc_auc_score(y_test, predicted_probas_class1)\n",
        "\n",
        "  # Universal metrics\n",
        "  accuracy = accuracy_score(y_test, predictions)\n",
        "  precision = precision_score(y_test, predictions)\n",
        "  recall = recall_score(y_test, predictions)\n",
        "  f1 = f1_score(y_test, predictions)\n",
        "\n",
        "  results.append(accuracy)\n",
        "  results.append(precision)\n",
        "  results.append(recall)\n",
        "  results.append(f1)\n",
        "  results.append(roc_auc)\n",
        "\n",
        "  print(\"Accuracy:\", round(results[0], 3))\n",
        "  print(\"Precision:\", round(results[1], 3))\n",
        "  print(\"Recall:\", round(results[2], 3))\n",
        "  print(\"F1-Score:\", round(results[3], 3))\n",
        "  print(\"ROC_AUC:\", round(results[4], 3))"
      ],
      "execution_count": 7,
      "outputs": []
    },
    {
      "cell_type": "code",
      "metadata": {
        "colab": {
          "base_uri": "https://localhost:8080/"
        },
        "id": "x8OMdHCzcjw6",
        "outputId": "0f20c8e1-02e7-4ca1-f795-50789ff2a243"
      },
      "source": [
        "from sklearn.linear_model import LogisticRegression\n",
        "\n",
        "model = LogisticRegression(solver='lbfgs', max_iter=200)\n",
        "pipeline = Pipeline(steps=[('preprocessor', categorical_transformer),\n",
        "                           ('model', model)])\n",
        "pipeline.fit(X_train, y_train)\n",
        "\n",
        "score_pipeline_model(pipeline, X_test, y_test)"
      ],
      "execution_count": 8,
      "outputs": [
        {
          "output_type": "stream",
          "text": [
            "Accuracy: 0.952\n",
            "Precision: 0.0\n",
            "Recall: 0.0\n",
            "F1-Score: 0.0\n",
            "ROC_AUC: 0.798\n"
          ],
          "name": "stdout"
        }
      ]
    },
    {
      "cell_type": "markdown",
      "metadata": {
        "id": "jnnfhPT8KJ96"
      },
      "source": [
        "## Train Some Models + Find Best Combination of Pipeline Parameters"
      ]
    },
    {
      "cell_type": "code",
      "metadata": {
        "id": "QujdOxMxoexy"
      },
      "source": [
        "from sklearn.tree import DecisionTreeClassifier\n",
        "from sklearn.ensemble import RandomForestClassifier, AdaBoostClassifier\n",
        "from xgboost import XGBClassifier\n",
        "from lightgbm import LGBMClassifier\n",
        "from catboost import CatBoostClassifier\n",
        "\n",
        "from sklearn.model_selection import KFold\n",
        "from sklearn.model_selection import RandomizedSearchCV, GridSearchCV"
      ],
      "execution_count": 11,
      "outputs": []
    },
    {
      "cell_type": "code",
      "metadata": {
        "id": "7QHuizgCmul2"
      },
      "source": [
        "def train_models():\n",
        "  models = [DecisionTreeClassifier(),\n",
        "            RandomForestClassifier(),\n",
        "            XGBClassifier(),\n",
        "            AdaBoostClassifier(),\n",
        "            LGBMClassifier(),\n",
        "            CatBoostClassifier(verbose=False)]\n",
        "  model_names = ['DecisionTreeClassifier:',\n",
        "                 'RandomForestClassifier:',\n",
        "                 'XGBClassifier:',\n",
        "                 'ADABoostClassifier:',\n",
        "                 'LGBMClassifier:',\n",
        "                 'CatBoostClassifier']\n",
        "\n",
        "  for i, model in enumerate(models):\n",
        "    tmp_pipeline = Pipeline(steps=[('preprocessor', categorical_transformer),\n",
        "                                   ('model', model)])\n",
        "    print(model_names[i])\n",
        "    tmp_pipeline.fit(X_train, y_train)\n",
        "    score_pipeline_model(tmp_pipeline, X_test, y_test)\n",
        "    print()"
      ],
      "execution_count": 15,
      "outputs": []
    },
    {
      "cell_type": "code",
      "metadata": {
        "colab": {
          "base_uri": "https://localhost:8080/"
        },
        "id": "nKvSfDg4oWAh",
        "outputId": "b1683583-e60b-49df-909d-a007b9edd678"
      },
      "source": [
        "train_models()"
      ],
      "execution_count": 16,
      "outputs": [
        {
          "output_type": "stream",
          "text": [
            "DecisionTreeClassifier:\n",
            "Accuracy: 0.945\n",
            "Precision: 0.1\n",
            "Recall: 0.027\n",
            "F1-Score: 0.043\n",
            "ROC_AUC: 0.508\n",
            "\n",
            "RandomForestClassifier:\n"
          ],
          "name": "stdout"
        },
        {
          "output_type": "stream",
          "text": [
            "/usr/local/lib/python3.7/dist-packages/sklearn/metrics/_classification.py:1272: UndefinedMetricWarning: Precision is ill-defined and being set to 0.0 due to no predicted samples. Use `zero_division` parameter to control this behavior.\n",
            "  _warn_prf(average, modifier, msg_start, len(result))\n"
          ],
          "name": "stderr"
        },
        {
          "output_type": "stream",
          "text": [
            "Accuracy: 0.955\n",
            "Precision: 0.0\n",
            "Recall: 0.0\n",
            "F1-Score: 0.0\n",
            "ROC_AUC: 0.708\n",
            "\n",
            "XGBClassifier:\n",
            "Accuracy: 0.951\n",
            "Precision: 0.2\n",
            "Recall: 0.027\n",
            "F1-Score: 0.048\n",
            "ROC_AUC: 0.77\n",
            "\n",
            "ADABoostClassifier:\n",
            "Accuracy: 0.945\n",
            "Precision: 0.0\n",
            "Recall: 0.0\n",
            "F1-Score: 0.0\n",
            "ROC_AUC: 0.767\n",
            "\n",
            "LGBMClassifier:\n",
            "Accuracy: 0.951\n",
            "Precision: 0.286\n",
            "Recall: 0.054\n",
            "F1-Score: 0.091\n",
            "ROC_AUC: 0.773\n",
            "\n",
            "CatBoostClassifier\n"
          ],
          "name": "stdout"
        },
        {
          "output_type": "stream",
          "text": [
            "Custom logger is already specified. Specify more than one logger at same time is not thread safe."
          ],
          "name": "stderr"
        },
        {
          "output_type": "stream",
          "text": [
            "Accuracy: 0.954\n",
            "Precision: 0.0\n",
            "Recall: 0.0\n",
            "F1-Score: 0.0\n",
            "ROC_AUC: 0.766\n",
            "\n"
          ],
          "name": "stdout"
        }
      ]
    },
    {
      "cell_type": "markdown",
      "metadata": {
        "id": "48otRYFgyA82"
      },
      "source": [
        "The metric I want to focus on is the recall score, because we need to be able to make our false negative rate smaller.\n",
        "\n",
        "The results above are not very good because our data is very imbalanced. Remember earlier, that our 'stroke' column consists of 95% 0 values and 5% 1 values.\n",
        "\n",
        "I decided to go with the catboostclassifier as it has parameters we can tune to handle the very imbalanced data."
      ]
    },
    {
      "cell_type": "code",
      "metadata": {
        "id": "gWirwHD-w1cC"
      },
      "source": [
        "def find_best_pipeline():\n",
        "  model = CatBoostClassifier(verbose=False)\n",
        "  pipeline = Pipeline(steps=[('preprocessor', categorical_transformer),\n",
        "                             ('model', model)])\n",
        "  params = [{\n",
        "      'model': [model],\n",
        "      'model__iterations': [100, 500, 1000],\n",
        "      'model__learning_rate': [0.1, 0.05, 0.01],\n",
        "      'model__min_data_in_leaf': [1],\n",
        "      'model__depth': [2, 3, 4],\n",
        "      'model__early_stopping_rounds': [5, 10],\n",
        "      'model__thread_count': [4],\n",
        "      'model__scale_pos_weight': [19]\n",
        "  }]\n",
        "\n",
        "  metrics = ['accuracy', 'precision', 'recall', 'f1', 'roc_auc']\n",
        "  cross_valid = KFold(shuffle=True)\n",
        "\n",
        "  best_model_pipeline = RandomizedSearchCV(estimator=pipeline, param_distributions=params, \n",
        "                                           n_iter=100, scoring=metrics, refit='recall', \n",
        "                                           n_jobs=-1, random_state=42, cv=cross_valid,\n",
        "                                           error_score='raise', return_train_score=False)\n",
        "\n",
        "  best_model_pipeline.fit(X_train, y_train)\n",
        "    \n",
        "  print(\"Best Classifier found in RandomSearchCV: \", best_model_pipeline.best_estimator_[1])\n",
        "  print(\"Best Estimator's average Recall Score on CV (validation set)\", best_model_pipeline.best_score_)\n",
        "\n",
        "  return best_model_pipeline"
      ],
      "execution_count": 19,
      "outputs": []
    },
    {
      "cell_type": "code",
      "metadata": {
        "colab": {
          "base_uri": "https://localhost:8080/"
        },
        "id": "SfrWFq4J48W9",
        "outputId": "f93c848c-df33-4439-c72a-0a97dd415ee2"
      },
      "source": [
        "best_model_pipeline = find_best_pipeline()"
      ],
      "execution_count": 20,
      "outputs": [
        {
          "output_type": "stream",
          "text": [
            "/usr/local/lib/python3.7/dist-packages/sklearn/model_selection/_search.py:281: UserWarning: The total space of parameters 54 is smaller than n_iter=100. Running 54 iterations. For exhaustive searches, use GridSearchCV.\n",
            "  % (grid_size, self.n_iter, grid_size), UserWarning)\n"
          ],
          "name": "stderr"
        },
        {
          "output_type": "stream",
          "text": [
            "Best Classifier found in RandomSearchCV:  <catboost.core.CatBoostClassifier object at 0x7fbbe158cc10>\n",
            "Best Estimator's average Recall Score on CV (validation set) 0.5617114898068408\n"
          ],
          "name": "stdout"
        }
      ]
    },
    {
      "cell_type": "markdown",
      "metadata": {
        "id": "S9hsdXBIKNKS"
      },
      "source": [
        "## Test and Evaluate Best Pipeline and Model "
      ]
    },
    {
      "cell_type": "code",
      "metadata": {
        "colab": {
          "base_uri": "https://localhost:8080/",
          "height": 206
        },
        "id": "2HLKXwc_gFsY",
        "outputId": "73532409-c510-441e-f1bd-a4d0df12f9d1"
      },
      "source": [
        "X_unseen = test.drop('stroke', axis=1)\n",
        "y_unseen = test['stroke']\n",
        "\n",
        "X_unseen.head()"
      ],
      "execution_count": 21,
      "outputs": [
        {
          "output_type": "execute_result",
          "data": {
            "text/html": [
              "<div>\n",
              "<style scoped>\n",
              "    .dataframe tbody tr th:only-of-type {\n",
              "        vertical-align: middle;\n",
              "    }\n",
              "\n",
              "    .dataframe tbody tr th {\n",
              "        vertical-align: top;\n",
              "    }\n",
              "\n",
              "    .dataframe thead th {\n",
              "        text-align: right;\n",
              "    }\n",
              "</style>\n",
              "<table border=\"1\" class=\"dataframe\">\n",
              "  <thead>\n",
              "    <tr style=\"text-align: right;\">\n",
              "      <th></th>\n",
              "      <th>Unnamed: 0</th>\n",
              "      <th>id</th>\n",
              "      <th>hypertension</th>\n",
              "      <th>heart_disease</th>\n",
              "      <th>ever_married</th>\n",
              "      <th>work_type</th>\n",
              "      <th>avg_glucose_level</th>\n",
              "      <th>bmi</th>\n",
              "      <th>smoking_status</th>\n",
              "      <th>age</th>\n",
              "    </tr>\n",
              "  </thead>\n",
              "  <tbody>\n",
              "    <tr>\n",
              "      <th>0</th>\n",
              "      <td>4688</td>\n",
              "      <td>40041</td>\n",
              "      <td>0</td>\n",
              "      <td>0</td>\n",
              "      <td>No</td>\n",
              "      <td>Self-employed</td>\n",
              "      <td>64.85</td>\n",
              "      <td>3.135494</td>\n",
              "      <td>Unknown</td>\n",
              "      <td>19.806483</td>\n",
              "    </tr>\n",
              "    <tr>\n",
              "      <th>1</th>\n",
              "      <td>4478</td>\n",
              "      <td>55244</td>\n",
              "      <td>0</td>\n",
              "      <td>0</td>\n",
              "      <td>Yes</td>\n",
              "      <td>Self-employed</td>\n",
              "      <td>65.29</td>\n",
              "      <td>3.342862</td>\n",
              "      <td>never smoked</td>\n",
              "      <td>24.780102</td>\n",
              "    </tr>\n",
              "    <tr>\n",
              "      <th>2</th>\n",
              "      <td>3849</td>\n",
              "      <td>70992</td>\n",
              "      <td>0</td>\n",
              "      <td>0</td>\n",
              "      <td>No</td>\n",
              "      <td>children</td>\n",
              "      <td>74.42</td>\n",
              "      <td>3.113515</td>\n",
              "      <td>Unknown</td>\n",
              "      <td>5.590972</td>\n",
              "    </tr>\n",
              "    <tr>\n",
              "      <th>3</th>\n",
              "      <td>4355</td>\n",
              "      <td>38207</td>\n",
              "      <td>1</td>\n",
              "      <td>0</td>\n",
              "      <td>Yes</td>\n",
              "      <td>Self-employed</td>\n",
              "      <td>76.64</td>\n",
              "      <td>2.970414</td>\n",
              "      <td>never smoked</td>\n",
              "      <td>44.619724</td>\n",
              "    </tr>\n",
              "    <tr>\n",
              "      <th>4</th>\n",
              "      <td>3826</td>\n",
              "      <td>8541</td>\n",
              "      <td>0</td>\n",
              "      <td>0</td>\n",
              "      <td>Yes</td>\n",
              "      <td>Govt_job</td>\n",
              "      <td>94.77</td>\n",
              "      <td>3.303217</td>\n",
              "      <td>never smoked</td>\n",
              "      <td>42.677257</td>\n",
              "    </tr>\n",
              "  </tbody>\n",
              "</table>\n",
              "</div>"
            ],
            "text/plain": [
              "   Unnamed: 0     id  hypertension  ...       bmi smoking_status        age\n",
              "0        4688  40041             0  ...  3.135494        Unknown  19.806483\n",
              "1        4478  55244             0  ...  3.342862   never smoked  24.780102\n",
              "2        3849  70992             0  ...  3.113515        Unknown   5.590972\n",
              "3        4355  38207             1  ...  2.970414   never smoked  44.619724\n",
              "4        3826   8541             0  ...  3.303217   never smoked  42.677257\n",
              "\n",
              "[5 rows x 10 columns]"
            ]
          },
          "metadata": {
            "tags": []
          },
          "execution_count": 21
        }
      ]
    },
    {
      "cell_type": "code",
      "metadata": {
        "colab": {
          "base_uri": "https://localhost:8080/",
          "height": 283
        },
        "id": "Zs-vn5N0oY3x",
        "outputId": "366d470a-1d54-49e9-9228-2f315c12facb"
      },
      "source": [
        "import matplotlib.pyplot as plt\n",
        "\n",
        "y_pred_proba = best_model_pipeline.predict_proba(X_test)\n",
        "fpr, tpr, thresholds = roc_curve(y_test, y_pred_proba[:,1])\n",
        "\n",
        "plt.plot(fpr, tpr)\n",
        "plt.plot([0, 1], [0, 1], linestyle='--')\n",
        "plt.xlim([0.0, 1.0])\n",
        "plt.ylim([0.0, 1.0])\n",
        "plt.xlabel('False Positive Rate')\n",
        "plt.ylabel('True Positive Rate')\n",
        "plt.show()"
      ],
      "execution_count": 22,
      "outputs": [
        {
          "output_type": "display_data",
          "data": {
            "image/png": "[encoded data removed]",
            "text/plain": [
              "<Figure size 432x288 with 1 Axes>"
            ]
          },
          "metadata": {
            "tags": [],
            "needs_background": "light"
          }
        }
      ]
    },
    {
      "cell_type": "code",
      "metadata": {
        "colab": {
          "base_uri": "https://localhost:8080/"
        },
        "id": "fmjE8dYLfePf",
        "outputId": "5ebc1129-cd44-4b47-9e1c-da875c8f414f"
      },
      "source": [
        "preds = best_model_pipeline.predict(X_test)\n",
        "print(classification_report(y_test, preds))"
      ],
      "execution_count": 29,
      "outputs": [
        {
          "output_type": "stream",
          "text": [
            "              precision    recall  f1-score   support\n",
            "\n",
            "           0       0.97      0.85      0.91       781\n",
            "           1       0.14      0.49      0.21        37\n",
            "\n",
            "    accuracy                           0.84       818\n",
            "   macro avg       0.55      0.67      0.56       818\n",
            "weighted avg       0.93      0.84      0.88       818\n",
            "\n"
          ],
          "name": "stdout"
        }
      ]
    },
    {
      "cell_type": "code",
      "metadata": {
        "colab": {
          "base_uri": "https://localhost:8080/"
        },
        "id": "APIpyd-CDu66",
        "outputId": "58439e51-65b3-4e64-dc0d-f93c0c46b467"
      },
      "source": [
        "roc_auc_score(y_test, preds)"
      ],
      "execution_count": 30,
      "outputs": [
        {
          "output_type": "execute_result",
          "data": {
            "text/plain": [
              "0.6702598885697477"
            ]
          },
          "metadata": {
            "tags": []
          },
          "execution_count": 30
        }
      ]
    },
    {
      "cell_type": "code",
      "metadata": {
        "colab": {
          "base_uri": "https://localhost:8080/"
        },
        "id": "4N10bNMxghRM",
        "outputId": "0af3b1b4-c543-4b0b-9737-dc5763ab066d"
      },
      "source": [
        "preds = best_model_pipeline.predict(X_unseen)\n",
        "print(classification_report(y_unseen, preds))"
      ],
      "execution_count": 33,
      "outputs": [
        {
          "output_type": "stream",
          "text": [
            "              precision    recall  f1-score   support\n",
            "\n",
            "           0       0.96      0.87      0.91       959\n",
            "           1       0.18      0.44      0.25        62\n",
            "\n",
            "    accuracy                           0.84      1021\n",
            "   macro avg       0.57      0.65      0.58      1021\n",
            "weighted avg       0.91      0.84      0.87      1021\n",
            "\n"
          ],
          "name": "stdout"
        }
      ]
    },
    {
      "cell_type": "code",
      "metadata": {
        "colab": {
          "base_uri": "https://localhost:8080/"
        },
        "id": "o_zQ5CDnD0LX",
        "outputId": "446f6c05-052a-48f7-f9e7-d2d24d39447c"
      },
      "source": [
        "roc_auc_score(y_unseen, preds)"
      ],
      "execution_count": 34,
      "outputs": [
        {
          "output_type": "execute_result",
          "data": {
            "text/plain": [
              "0.6520485048269367"
            ]
          },
          "metadata": {
            "tags": []
          },
          "execution_count": 34
        }
      ]
    }
  ]
}